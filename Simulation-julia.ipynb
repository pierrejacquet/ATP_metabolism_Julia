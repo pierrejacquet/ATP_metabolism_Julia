{
 "cells": [
  {
   "cell_type": "code",
   "execution_count": 9,
   "metadata": {},
   "outputs": [
    {
     "ename": "MethodError",
     "evalue": "MethodError: no method matching iterate(::DiffEqBase.NullParameters)\nClosest candidates are:\n  iterate(!Matched::Core.SimpleVector) at essentials.jl:589\n  iterate(!Matched::Core.SimpleVector, !Matched::Any) at essentials.jl:589\n  iterate(!Matched::ExponentialBackOff) at error.jl:171\n  ...",
     "output_type": "error",
     "traceback": [
      "MethodError: no method matching iterate(::DiffEqBase.NullParameters)\nClosest candidates are:\n  iterate(!Matched::Core.SimpleVector) at essentials.jl:589\n  iterate(!Matched::Core.SimpleVector, !Matched::Any) at essentials.jl:589\n  iterate(!Matched::ExponentialBackOff) at error.jl:171\n  ...",
      "",
      "Stacktrace:",
      " [1] indexed_iterate(::DiffEqBase.NullParameters, ::Int32) at ./tuple.jl:63",
      " [2] (::getfield(Main, Symbol(\"#equadiff#11\")){Float64})(::Array{Float64,1}, ::DiffEqBase.NullParameters, ::Float64) at ./In[9]:14",
      " [3] (::ODEFunction{false,getfield(Main, Symbol(\"#equadiff#11\")){Float64},LinearAlgebra.UniformScaling{Bool},Nothing,Nothing,Nothing,Nothing,Nothing,Nothing,Nothing,Nothing,Nothing,Nothing,Nothing})(::Array{Float64,1}, ::DiffEqBase.NullParameters, ::Vararg{Any,N} where N) at /home/jacquepi/.julia/packages/DiffEqBase/jMOwn/src/diffeqfunction.jl:219",
      " [4] initialize!(::OrdinaryDiffEq.ODEIntegrator{CompositeAlgorithm{Tuple{Tsit5,Rosenbrock23{0,false,DefaultLinSolve,DataType}},AutoSwitch{Tsit5,Rosenbrock23{0,false,DefaultLinSolve,DataType},Rational{Int32},Int32}},false,Array{Float64,1},Float64,DiffEqBase.NullParameters,Float64,Float64,Float64,Array{Array{Float64,1},1},OrdinaryDiffEq.ODECompositeSolution{Float64,2,Array{Array{Float64,1},1},Nothing,Nothing,Array{Float64,1},Array{Array{Array{Float64,1},1},1},ODEProblem{Array{Float64,1},Tuple{Float64,Float64},false,DiffEqBase.NullParameters,ODEFunction{false,getfield(Main, Symbol(\"#equadiff#11\")){Float64},LinearAlgebra.UniformScaling{Bool},Nothing,Nothing,Nothing,Nothing,Nothing,Nothing,Nothing,Nothing,Nothing,Nothing,Nothing},Base.Iterators.Pairs{Union{},Union{},Tuple{},NamedTuple{(),Tuple{}}},DiffEqBase.StandardODEProblem},CompositeAlgorithm{Tuple{Tsit5,Rosenbrock23{0,false,DefaultLinSolve,DataType}},AutoSwitch{Tsit5,Rosenbrock23{0,false,DefaultLinSolve,DataType},Rational{Int32},Int32}},OrdinaryDiffEq.CompositeInterpolationData{ODEFunction{false,getfield(Main, Symbol(\"#equadiff#11\")){Float64},LinearAlgebra.UniformScaling{Bool},Nothing,Nothing,Nothing,Nothing,Nothing,Nothing,Nothing,Nothing,Nothing,Nothing,Nothing},Array{Array{Float64,1},1},Array{Float64,1},Array{Array{Array{Float64,1},1},1},OrdinaryDiffEq.CompositeCache{Tuple{OrdinaryDiffEq.Tsit5ConstantCache{Float64,Float64},OrdinaryDiffEq.Rosenbrock23ConstantCache{Float64,DiffEqDiffTools.TimeDerivativeWrapper{ODEFunction{false,getfield(Main, Symbol(\"#equadiff#11\")){Float64},LinearAlgebra.UniformScaling{Bool},Nothing,Nothing,Nothing,Nothing,Nothing,Nothing,Nothing,Nothing,Nothing,Nothing,Nothing},Array{Float64,1},DiffEqBase.NullParameters},DiffEqDiffTools.UDerivativeWrapper{ODEFunction{false,getfield(Main, Symbol(\"#equadiff#11\")){Float64},LinearAlgebra.UniformScaling{Bool},Nothing,Nothing,Nothing,Nothing,Nothing,Nothing,Nothing,Nothing,Nothing,Nothing,Nothing},Float64,DiffEqBase.NullParameters},Array{Float64,2},LinearAlgebra.LU{Float64,Array{Float64,2}},DefaultLinSolve}},AutoSwitch{Tsit5,Rosenbrock23{0,false,DefaultLinSolve,DataType},Rational{Int32},Int32}}},DiffEqBase.DEStats},ODEFunction{false,getfield(Main, Symbol(\"#equadiff#11\")){Float64},LinearAlgebra.UniformScaling{Bool},Nothing,Nothing,Nothing,Nothing,Nothing,Nothing,Nothing,Nothing,Nothing,Nothing,Nothing},OrdinaryDiffEq.CompositeCache{Tuple{OrdinaryDiffEq.Tsit5ConstantCache{Float64,Float64},OrdinaryDiffEq.Rosenbrock23ConstantCache{Float64,DiffEqDiffTools.TimeDerivativeWrapper{ODEFunction{false,getfield(Main, Symbol(\"#equadiff#11\")){Float64},LinearAlgebra.UniformScaling{Bool},Nothing,Nothing,Nothing,Nothing,Nothing,Nothing,Nothing,Nothing,Nothing,Nothing,Nothing},Array{Float64,1},DiffEqBase.NullParameters},DiffEqDiffTools.UDerivativeWrapper{ODEFunction{false,getfield(Main, Symbol(\"#equadiff#11\")){Float64},LinearAlgebra.UniformScaling{Bool},Nothing,Nothing,Nothing,Nothing,Nothing,Nothing,Nothing,Nothing,Nothing,Nothing,Nothing},Float64,DiffEqBase.NullParameters},Array{Float64,2},LinearAlgebra.LU{Float64,Array{Float64,2}},DefaultLinSolve}},AutoSwitch{Tsit5,Rosenbrock23{0,false,DefaultLinSolve,DataType},Rational{Int32},Int32}},OrdinaryDiffEq.DEOptions{Float64,Float64,Float64,Float64,typeof(DiffEqBase.ODE_DEFAULT_NORM),typeof(LinearAlgebra.opnorm),CallbackSet{Tuple{},Tuple{}},typeof(DiffEqBase.ODE_DEFAULT_ISOUTOFDOMAIN),typeof(DiffEqBase.ODE_DEFAULT_PROG_MESSAGE),typeof(DiffEqBase.ODE_DEFAULT_UNSTABLE_CHECK),DataStructures.BinaryHeap{Float64,DataStructures.LessThan},DataStructures.BinaryHeap{Float64,DataStructures.LessThan},Nothing,Nothing,Int32,Array{Float64,1},Array{Float64,1},Array{Float64,1}},Array{Float64,1},Float64,Nothing}, ::OrdinaryDiffEq.Tsit5ConstantCache{Float64,Float64}) at /home/jacquepi/.julia/packages/OrdinaryDiffEq/lGGkK/src/perform_step/low_order_rk_perform_step.jl:565",
      " [5] initialize!(::OrdinaryDiffEq.ODEIntegrator{CompositeAlgorithm{Tuple{Tsit5,Rosenbrock23{0,false,DefaultLinSolve,DataType}},AutoSwitch{Tsit5,Rosenbrock23{0,false,DefaultLinSolve,DataType},Rational{Int32},Int32}},false,Array{Float64,1},Float64,DiffEqBase.NullParameters,Float64,Float64,Float64,Array{Array{Float64,1},1},OrdinaryDiffEq.ODECompositeSolution{Float64,2,Array{Array{Float64,1},1},Nothing,Nothing,Array{Float64,1},Array{Array{Array{Float64,1},1},1},ODEProblem{Array{Float64,1},Tuple{Float64,Float64},false,DiffEqBase.NullParameters,ODEFunction{false,getfield(Main, Symbol(\"#equadiff#11\")){Float64},LinearAlgebra.UniformScaling{Bool},Nothing,Nothing,Nothing,Nothing,Nothing,Nothing,Nothing,Nothing,Nothing,Nothing,Nothing},Base.Iterators.Pairs{Union{},Union{},Tuple{},NamedTuple{(),Tuple{}}},DiffEqBase.StandardODEProblem},CompositeAlgorithm{Tuple{Tsit5,Rosenbrock23{0,false,DefaultLinSolve,DataType}},AutoSwitch{Tsit5,Rosenbrock23{0,false,DefaultLinSolve,DataType},Rational{Int32},Int32}},OrdinaryDiffEq.CompositeInterpolationData{ODEFunction{false,getfield(Main, Symbol(\"#equadiff#11\")){Float64},LinearAlgebra.UniformScaling{Bool},Nothing,Nothing,Nothing,Nothing,Nothing,Nothing,Nothing,Nothing,Nothing,Nothing,Nothing},Array{Array{Float64,1},1},Array{Float64,1},Array{Array{Array{Float64,1},1},1},OrdinaryDiffEq.CompositeCache{Tuple{OrdinaryDiffEq.Tsit5ConstantCache{Float64,Float64},OrdinaryDiffEq.Rosenbrock23ConstantCache{Float64,DiffEqDiffTools.TimeDerivativeWrapper{ODEFunction{false,getfield(Main, Symbol(\"#equadiff#11\")){Float64},LinearAlgebra.UniformScaling{Bool},Nothing,Nothing,Nothing,Nothing,Nothing,Nothing,Nothing,Nothing,Nothing,Nothing,Nothing},Array{Float64,1},DiffEqBase.NullParameters},DiffEqDiffTools.UDerivativeWrapper{ODEFunction{false,getfield(Main, Symbol(\"#equadiff#11\")){Float64},LinearAlgebra.UniformScaling{Bool},Nothing,Nothing,Nothing,Nothing,Nothing,Nothing,Nothing,Nothing,Nothing,Nothing,Nothing},Float64,DiffEqBase.NullParameters},Array{Float64,2},LinearAlgebra.LU{Float64,Array{Float64,2}},DefaultLinSolve}},AutoSwitch{Tsit5,Rosenbrock23{0,false,DefaultLinSolve,DataType},Rational{Int32},Int32}}},DiffEqBase.DEStats},ODEFunction{false,getfield(Main, Symbol(\"#equadiff#11\")){Float64},LinearAlgebra.UniformScaling{Bool},Nothing,Nothing,Nothing,Nothing,Nothing,Nothing,Nothing,Nothing,Nothing,Nothing,Nothing},OrdinaryDiffEq.CompositeCache{Tuple{OrdinaryDiffEq.Tsit5ConstantCache{Float64,Float64},OrdinaryDiffEq.Rosenbrock23ConstantCache{Float64,DiffEqDiffTools.TimeDerivativeWrapper{ODEFunction{false,getfield(Main, Symbol(\"#equadiff#11\")){Float64},LinearAlgebra.UniformScaling{Bool},Nothing,Nothing,Nothing,Nothing,Nothing,Nothing,Nothing,Nothing,Nothing,Nothing,Nothing},Array{Float64,1},DiffEqBase.NullParameters},DiffEqDiffTools.UDerivativeWrapper{ODEFunction{false,getfield(Main, Symbol(\"#equadiff#11\")){Float64},LinearAlgebra.UniformScaling{Bool},Nothing,Nothing,Nothing,Nothing,Nothing,Nothing,Nothing,Nothing,Nothing,Nothing,Nothing},Float64,DiffEqBase.NullParameters},Array{Float64,2},LinearAlgebra.LU{Float64,Array{Float64,2}},DefaultLinSolve}},AutoSwitch{Tsit5,Rosenbrock23{0,false,DefaultLinSolve,DataType},Rational{Int32},Int32}},OrdinaryDiffEq.DEOptions{Float64,Float64,Float64,Float64,typeof(DiffEqBase.ODE_DEFAULT_NORM),typeof(LinearAlgebra.opnorm),CallbackSet{Tuple{},Tuple{}},typeof(DiffEqBase.ODE_DEFAULT_ISOUTOFDOMAIN),typeof(DiffEqBase.ODE_DEFAULT_PROG_MESSAGE),typeof(DiffEqBase.ODE_DEFAULT_UNSTABLE_CHECK),DataStructures.BinaryHeap{Float64,DataStructures.LessThan},DataStructures.BinaryHeap{Float64,DataStructures.LessThan},Nothing,Nothing,Int32,Array{Float64,1},Array{Float64,1},Array{Float64,1}},Array{Float64,1},Float64,Nothing}, ::OrdinaryDiffEq.CompositeCache{Tuple{OrdinaryDiffEq.Tsit5ConstantCache{Float64,Float64},OrdinaryDiffEq.Rosenbrock23ConstantCache{Float64,DiffEqDiffTools.TimeDerivativeWrapper{ODEFunction{false,getfield(Main, Symbol(\"#equadiff#11\")){Float64},LinearAlgebra.UniformScaling{Bool},Nothing,Nothing,Nothing,Nothing,Nothing,Nothing,Nothing,Nothing,Nothing,Nothing,Nothing},Array{Float64,1},DiffEqBase.NullParameters},DiffEqDiffTools.UDerivativeWrapper{ODEFunction{false,getfield(Main, Symbol(\"#equadiff#11\")){Float64},LinearAlgebra.UniformScaling{Bool},Nothing,Nothing,Nothing,Nothing,Nothing,Nothing,Nothing,Nothing,Nothing,Nothing,Nothing},Float64,DiffEqBase.NullParameters},Array{Float64,2},LinearAlgebra.LU{Float64,Array{Float64,2}},DefaultLinSolve}},AutoSwitch{Tsit5,Rosenbrock23{0,false,DefaultLinSolve,DataType},Rational{Int32},Int32}}) at /home/jacquepi/.julia/packages/OrdinaryDiffEq/lGGkK/src/perform_step/composite_perform_step.jl:38",
      " [6] #__init#332(::Array{Float64,1}, ::Array{Float64,1}, ::Array{Float64,1}, ::Nothing, ::Bool, ::Bool, ::Bool, ::Bool, ::Nothing, ::Bool, ::Bool, ::Float64, ::Float64, ::Int32, ::Bool, ::Bool, ::Rational{Int32}, ::Float64, ::Float64, ::Rational{Int32}, ::Int32, ::Int32, ::Int32, ::Rational{Int32}, ::Bool, ::Int32, ::Nothing, ::Nothing, ::Int32, ::typeof(DiffEqBase.ODE_DEFAULT_NORM), ::typeof(LinearAlgebra.opnorm), ::typeof(DiffEqBase.ODE_DEFAULT_ISOUTOFDOMAIN), ::typeof(DiffEqBase.ODE_DEFAULT_UNSTABLE_CHECK), ::Bool, ::Bool, ::Bool, ::Bool, ::Bool, ::Bool, ::Bool, ::Int32, ::String, ::typeof(DiffEqBase.ODE_DEFAULT_PROG_MESSAGE), ::Nothing, ::Bool, ::Bool, ::Bool, ::Base.Iterators.Pairs{Union{},Union{},Tuple{},NamedTuple{(),Tuple{}}}, ::typeof(DiffEqBase.__init), ::ODEProblem{Array{Float64,1},Tuple{Float64,Float64},false,DiffEqBase.NullParameters,ODEFunction{false,getfield(Main, Symbol(\"#equadiff#11\")){Float64},LinearAlgebra.UniformScaling{Bool},Nothing,Nothing,Nothing,Nothing,Nothing,Nothing,Nothing,Nothing,Nothing,Nothing,Nothing},Base.Iterators.Pairs{Union{},Union{},Tuple{},NamedTuple{(),Tuple{}}},DiffEqBase.StandardODEProblem}, ::CompositeAlgorithm{Tuple{Tsit5,Rosenbrock23{0,false,DefaultLinSolve,DataType}},AutoSwitch{Tsit5,Rosenbrock23{0,false,DefaultLinSolve,DataType},Rational{Int32},Int32}}, ::Array{Array{Float64,1},1}, ::Array{Float64,1}, ::Array{Any,1}, ::Type{Val{true}}) at /home/jacquepi/.julia/packages/OrdinaryDiffEq/lGGkK/src/solve.jl:357",
      " [7] (::getfield(DiffEqBase, Symbol(\"#kw##__init\")))(::NamedTuple{(:reltol, :abstol, :dtmax),Tuple{Float64,Float64,Int32}}, ::typeof(DiffEqBase.__init), ::ODEProblem{Array{Float64,1},Tuple{Float64,Float64},false,DiffEqBase.NullParameters,ODEFunction{false,getfield(Main, Symbol(\"#equadiff#11\")){Float64},LinearAlgebra.UniformScaling{Bool},Nothing,Nothing,Nothing,Nothing,Nothing,Nothing,Nothing,Nothing,Nothing,Nothing,Nothing},Base.Iterators.Pairs{Union{},Union{},Tuple{},NamedTuple{(),Tuple{}}},DiffEqBase.StandardODEProblem}, ::CompositeAlgorithm{Tuple{Tsit5,Rosenbrock23{0,false,DefaultLinSolve,DataType}},AutoSwitch{Tsit5,Rosenbrock23{0,false,DefaultLinSolve,DataType},Rational{Int32},Int32}}, ::Array{Array{Float64,1},1}, ::Array{Float64,1}, ::Array{Any,1}, ::Type{Val{true}}) at ./none:0 (repeats 5 times)",
      " [8] #__solve#331(::Base.Iterators.Pairs{Symbol,Real,Tuple{Symbol,Symbol,Symbol},NamedTuple{(:reltol, :abstol, :dtmax),Tuple{Float64,Float64,Int32}}}, ::Function, ::ODEProblem{Array{Float64,1},Tuple{Float64,Float64},false,DiffEqBase.NullParameters,ODEFunction{false,getfield(Main, Symbol(\"#equadiff#11\")){Float64},LinearAlgebra.UniformScaling{Bool},Nothing,Nothing,Nothing,Nothing,Nothing,Nothing,Nothing,Nothing,Nothing,Nothing,Nothing},Base.Iterators.Pairs{Union{},Union{},Tuple{},NamedTuple{(),Tuple{}}},DiffEqBase.StandardODEProblem}, ::CompositeAlgorithm{Tuple{Tsit5,Rosenbrock23{0,false,DefaultLinSolve,DataType}},AutoSwitch{Tsit5,Rosenbrock23{0,false,DefaultLinSolve,DataType},Rational{Int32},Int32}}) at /home/jacquepi/.julia/packages/OrdinaryDiffEq/lGGkK/src/solve.jl:4",
      " [9] #solve_call#442(::Base.Iterators.Pairs{Symbol,Real,Tuple{Symbol,Symbol,Symbol},NamedTuple{(:reltol, :abstol, :dtmax),Tuple{Float64,Float64,Int32}}}, ::Function, ::ODEProblem{Array{Float64,1},Tuple{Float64,Float64},false,DiffEqBase.NullParameters,ODEFunction{false,getfield(Main, Symbol(\"#equadiff#11\")){Float64},LinearAlgebra.UniformScaling{Bool},Nothing,Nothing,Nothing,Nothing,Nothing,Nothing,Nothing,Nothing,Nothing,Nothing,Nothing},Base.Iterators.Pairs{Union{},Union{},Tuple{},NamedTuple{(),Tuple{}}},DiffEqBase.StandardODEProblem}, ::CompositeAlgorithm{Tuple{Tsit5,Rosenbrock23{0,false,DefaultLinSolve,DataType}},AutoSwitch{Tsit5,Rosenbrock23{0,false,DefaultLinSolve,DataType},Rational{Int32},Int32}}) at ./none:0",
      " [10] (::getfield(DiffEqBase, Symbol(\"#kw##solve\")))(::NamedTuple{(:reltol, :abstol, :dtmax),Tuple{Float64,Float64,Int32}}, ::typeof(solve), ::ODEProblem{Array{Float64,1},Tuple{Float64,Float64},false,DiffEqBase.NullParameters,ODEFunction{false,getfield(Main, Symbol(\"#equadiff#11\")){Float64},LinearAlgebra.UniformScaling{Bool},Nothing,Nothing,Nothing,Nothing,Nothing,Nothing,Nothing,Nothing,Nothing,Nothing,Nothing},Base.Iterators.Pairs{Union{},Union{},Tuple{},NamedTuple{(),Tuple{}}},DiffEqBase.StandardODEProblem}, ::CompositeAlgorithm{Tuple{Tsit5,Rosenbrock23{0,false,DefaultLinSolve,DataType}},AutoSwitch{Tsit5,Rosenbrock23{0,false,DefaultLinSolve,DataType},Rational{Int32},Int32}}) at ./none:0",
      " [11] top-level scope at In[9]:58"
     ]
    }
   ],
   "source": [
    "using Pkg\n",
    "using Plots\n",
    "using DifferentialEquations\n",
    "using ParameterizedFunctions\n",
    "using CSV\n",
    "using DataFrames\n",
    "using ODE\n",
    "\n",
    "niveauATP=0\n",
    "for ATP_demand in [1e-6] #, 2.495e-6, 1e-5 an array\n",
    "    niveauATP=niveauATP+1\n",
    "\n",
    "function equadiff(du,u,t)\n",
    "  Lac,Glucose,Oxygen,Pyruvate,H, pH,ATP = u\n",
    "  Glycolyse =  (UptakeMAXGlu*(pgo / ( pgo + Oxygen)) * (maxima * exp(-( pH - kph)^2 / ( 2 * ngaussian^2) ) ) )*( (Glucose)/(Km + Glucose))\n",
    "  UPTAKE_OXYGEN=(3.0/17.0)*max(0.0,ATP_target-ATP)*(Oxygen/(Kox+Oxygen))\n",
    "  OXPHOS = min(17.0*Pyruvate, (17.0/3.0)*UPTAKE_OXYGEN)\n",
    "  UPTAKE_LAC= (UptakeMAXLac  * (1 - ( (pH^n)/(KpH^n + pH^n))) * (Lac/(KLac + Lac)))\n",
    "  EXCRETION_LAC=max(0,Pyruvate+2*Glycolyse - (1/17) * OXPHOS + UPTAKE_LAC-Pyruvate_target)\n",
    "  ATP_UTILISATION=ATP_demand#+ ATP_demand * sin(Frequency*t)/InvAmplitude\n",
    "  du[1] = dLac = -UPTAKE_LAC  + EXCRETION_LAC\n",
    "  du[2] = dGlucose = -Glycolyse\n",
    "  du[3] = dOxygen = -(3/17)OXPHOS \n",
    "  du[4] = dPyruvate = 2*Glycolyse - (1/17) * OXPHOS + UPTAKE_LAC - EXCRETION_LAC\n",
    "  du[5] = dH = dLac\n",
    "  u[6] = pH = -log10(max(0.00000000000000001,H)/1000)\n",
    "  du[7] =  dATP = 2*Glycolyse + OXPHOS - ATP_UTILISATION\n",
    "end\n",
    "    \n",
    "UptakeMAXLac = 1\n",
    "KpH = 6.9\n",
    "n=67.95\n",
    "KLac = 0.04\n",
    "\n",
    "UptakeMAXGlu=1e-7\n",
    "Km=0.04\n",
    "pgo=0.24\n",
    "maxima=1.3\n",
    "kph=7.5\n",
    "ngaussian=0.27\n",
    "\n",
    "Pyruvate_target=0.120000000000\n",
    "poatp = 1\n",
    "ATP_target = 2.8\n",
    "Kox = 0.0046\n",
    "\n",
    "Frequency=0.1\n",
    "InvAmplitude=5\n",
    "\n",
    "u0 = [0.0;5.0;0.1;0.12;5.01187234e-5;7.3;2.8]\n",
    "tspan = (0.0,648000.0)\n",
    "p = [7.3]\n",
    "\n",
    "\n",
    "prob = ODEProblem(equadiff,u0,tspan)\n",
    "\n",
    "#sol = solve(prob,AutoTsit5(Rosenbrock23()),reltol=1e-5,abstol=1e-5, dtmax=1)\n",
    "sol = solve(prob,AutoTsit5(Rosenbrock23(autodiff=false)),reltol=1e-8,abstol=1e-8, dtmax=1)\n",
    "pyplot()\n",
    "\n",
    "Dataframe=DataFrame(Time=sol.t, Lac=sol[1,:], GLu=sol[2,:], Ox=sol[3,:], Pyr=sol[4,:], H=sol[5,:], pH=sol[6,:], ATP=sol[7,:])\n",
    "CSV.write(string(\"simu\",niveauATP,\".csv\"), Dataframe)\n",
    "end"
   ]
  },
  {
   "cell_type": "code",
   "execution_count": null,
   "metadata": {},
   "outputs": [],
   "source": []
  },
  {
   "cell_type": "code",
   "execution_count": null,
   "metadata": {},
   "outputs": [],
   "source": []
  },
  {
   "cell_type": "code",
   "execution_count": null,
   "metadata": {},
   "outputs": [],
   "source": []
  }
 ],
 "metadata": {
  "kernelspec": {
   "display_name": "Julia 1.0.4",
   "language": "julia",
   "name": "julia-1.0"
  },
  "language_info": {
   "file_extension": ".jl",
   "mimetype": "application/julia",
   "name": "julia",
   "version": "1.0.4"
  }
 },
 "nbformat": 4,
 "nbformat_minor": 4
}
